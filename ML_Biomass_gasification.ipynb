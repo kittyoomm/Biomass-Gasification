version https://git-lfs.github.com/spec/v1
oid sha256:d4b292f5a07568269a3da77e147f53c8c654b8d502e40b8e5c1ad1670358c55a
size 15694078
