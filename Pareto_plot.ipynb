version https://git-lfs.github.com/spec/v1
oid sha256:b0b94d74dee961c7e23eeeb6a1c75d24df231b44c6abc8fc101ca01b8c8e506c
size 226020
