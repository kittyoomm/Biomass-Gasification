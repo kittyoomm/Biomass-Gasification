version https://git-lfs.github.com/spec/v1
oid sha256:4d3da526d22c33edcc231e0f4cf9d675b921d693cd0c74dab880cf8cbe792cb5
size 1926185
