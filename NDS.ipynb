version https://git-lfs.github.com/spec/v1
oid sha256:875fda4f72f4871262766d65b00fd953555c1519c2cfd91ed1ddbf7e37d99bdc
size 496615
