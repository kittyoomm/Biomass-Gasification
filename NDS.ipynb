version https://git-lfs.github.com/spec/v1
oid sha256:58c68d4f5b6dd288d16bfdfe99a0f538868f1a6744fe218f2b4daf1a83c5f931
size 588199
