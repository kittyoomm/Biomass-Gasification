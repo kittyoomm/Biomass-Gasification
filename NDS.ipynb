version https://git-lfs.github.com/spec/v1
oid sha256:4209429b7733947b2a9eb74a1c527d7e1588646badd6b18e1bcdc94f6867e9b7
size 567654
