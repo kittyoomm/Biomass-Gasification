version https://git-lfs.github.com/spec/v1
oid sha256:696c0ac9d8c75614517ddef18185fe2cd99e70ba0a601e1121ec9b0221405f6c
size 88459
