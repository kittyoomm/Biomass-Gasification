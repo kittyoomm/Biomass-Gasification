version https://git-lfs.github.com/spec/v1
oid sha256:733cd3144f3596364e0c1b75b33a1b9d740aa66497b2435ce9fbaac0e6cdac62
size 1963450
