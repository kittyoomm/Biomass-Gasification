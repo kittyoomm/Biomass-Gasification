version https://git-lfs.github.com/spec/v1
oid sha256:e5287a9c85db725d91e78e1c00be9fb03f4b190471f4d2a358bc44cc1f7a9aa8
size 1924907
