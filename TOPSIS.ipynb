version https://git-lfs.github.com/spec/v1
oid sha256:2de36af6dedb5d3fc78d14f3e3d0b1674117f8bfbcd40c2e1f90343875283483
size 18329
