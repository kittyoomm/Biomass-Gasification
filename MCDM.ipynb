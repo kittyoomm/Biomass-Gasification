version https://git-lfs.github.com/spec/v1
oid sha256:8855f0ea6fffbc0075fa483ef0c70b6cde29bd472b832015daddac6521c92e47
size 1191460
