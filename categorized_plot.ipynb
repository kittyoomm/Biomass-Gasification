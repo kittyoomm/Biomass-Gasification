version https://git-lfs.github.com/spec/v1
oid sha256:e806ba25f0bd294a3de6f93ad4c667dbe503e46096b96f58b94e005440db086e
size 1055880
